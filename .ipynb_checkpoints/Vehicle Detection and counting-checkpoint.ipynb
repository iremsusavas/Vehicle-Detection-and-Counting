{
 "cells": [
  {
   "cell_type": "code",
   "execution_count": null,
   "id": "191e4fdf",
   "metadata": {},
   "outputs": [],
   "source": [
    "import cv2\n",
    "import numpy as np\n"
   ]
  },
  {
   "cell_type": "code",
   "execution_count": null,
   "id": "919a1ca3",
   "metadata": {},
   "outputs": [],
   "source": [
    "def center_handler(x,y,w,h):\n",
    "    x1 = int(w/2)\n",
    "    y1 = int(h/2)\n",
    "    cx = x+x1\n",
    "    cy = y+y1\n",
    "    return cx,cy\n",
    "\n",
    "detect= []\n",
    "offset = 6 #allowable error\n",
    "counter = 0\n",
    "#web camera\n",
    "capture = cv2.VideoCapture('video.mp4')\n",
    "count_line_position = 550\n",
    "\n",
    "#Gaussian Mixture-based Background/Foreground Segmentation Algorithm:\n",
    "segmentation = cv2.createBackgroundSubtractorMOG2()\n",
    "while True:\n",
    "    success ,img1 = capture.read()\n",
    "    \n",
    "    gray = cv2.cvtColor(img1,cv2.COLOR_BGR2GRAY)\n",
    "    blur = cv2.GaussianBlur(gray,(3,3),5)\n",
    "    img_subtracted_background = segmentation.apply(blur)\n",
    "    dilation = cv2.dilate(img_subtracted_background,np.ones(5))\n",
    "    kernel = cv2.getStructuringElement(cv2.MORPH_ELLIPSE,(5,5))\n",
    "    dil = cv2.morphologyEx(dilation,cv2.MORPH_CLOSE,kernel)\n",
    "    dil2 = cv2.morphologyEx(dil,cv2.MORPH_CLOSE,kernel)\n",
    "    countershape,h = cv2.findContours(dil2,cv2.RETR_TREE, cv2.CHAIN_APPROX_SIMPLE)\n",
    "    cv2.line(img1,(25,count_line_position),(1200,count_line_position),(255,127,0),3)\n",
    "    for (i,c) in enumerate(countershape):\n",
    "        (x,y,w,h) = cv2.boundingRect(c)\n",
    "        validate_counter = (w>=80) and (h>=80)\n",
    "        if not validate_counter:\n",
    "            continue\n",
    "        cv2.rectangle(img1,(x,y),(x+w,y+h),(0,0,255),2)\n",
    "        center = center_handler(x,y,w,h)\n",
    "        detect.append(center)\n",
    "        cv2.circle(img1,center,4,(0,0,255),-1)\n",
    "        for (x,y) in detect:\n",
    "            if x<(count_line_position+offset) and y<(count_line_position+offset) :\n",
    "                counter=counter+1\n",
    "            cv2.line(img1,(25,count_line_position),(1200,count_line_position),(0,127,255),3)\n",
    "            detect.remove((x,y))\n",
    "        print(\"Vehicle Counter\"+str(counter))\n",
    "        #cv2.putText(img1,str(counter),(450,70),cv2.FONT_HERSHEY_SIMPLEX,2,(255,255,255))\n",
    "    \n",
    "    \n",
    "    \n",
    "    cv2.imshow('Video',img1)\n",
    "    if cv2.waitKey(1) == 13:\n",
    "        break\n",
    "        \n",
    "cv2.destroyAllWindows()\n",
    "capture.release()\n",
    "    \n"
   ]
  },
  {
   "cell_type": "code",
   "execution_count": null,
   "id": "7fa80a71",
   "metadata": {},
   "outputs": [],
   "source": []
  }
 ],
 "metadata": {
  "kernelspec": {
   "display_name": "Python 3.8 (pytorch)",
   "language": "python",
   "name": "pytorch"
  },
  "language_info": {
   "codemirror_mode": {
    "name": "ipython",
    "version": 3
   },
   "file_extension": ".py",
   "mimetype": "text/x-python",
   "name": "python",
   "nbconvert_exporter": "python",
   "pygments_lexer": "ipython3",
   "version": "3.8.12"
  }
 },
 "nbformat": 4,
 "nbformat_minor": 5
}
